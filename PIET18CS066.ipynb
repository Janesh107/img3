{
  "nbformat": 4,
  "nbformat_minor": 0,
  "metadata": {
    "colab": {
      "name": "PIET18CS066.ipynb",
      "provenance": []
    },
    "kernelspec": {
      "name": "python3",
      "display_name": "Python 3"
    },
    "language_info": {
      "name": "python"
    }
  },
  "cells": [
    {
      "cell_type": "code",
      "metadata": {
        "id": "ToCEsShdiiGy"
      },
      "source": [
        "import numpy as np\n",
        "import pandas as pd\n",
        "import cv2 as cv\n",
        "from google.colab.patches import cv2_imshow # for image display\n",
        "from skimage import io\n",
        "from PIL import Image \n",
        "import matplotlib.pylab as plt\n",
        "#import matplotlib.image as mpimg \n",
        "#from matplotlib.pyplot import imshow\n",
        "#%matplotlib inline"
      ],
      "execution_count": 1,
      "outputs": []
    },
    {
      "cell_type": "code",
      "metadata": {
        "colab": {
          "base_uri": "https://localhost:8080/",
          "height": 182
        },
        "id": "lQwhOqWziqlz",
        "outputId": "063eccd7-0b70-40d2-b4b7-05d1d55bde4d"
      },
      "source": [
        "#sOLUTION-1\n",
        "img = np.zeros((100,100,3), np.uint8)\n",
        "#cv2_imshow(img)\n",
        "#@title Color Palatte {run:\"auto\"} \n",
        "\n",
        "B = 163 #@param {type:\"slider\",min:0, max:255, step:1}\n",
        "G = 65 #@param {type:\"slider\",min:0, max:255, step:1}\n",
        "R = 115 #@param {type:\"slider\",min:0, max:255, step:1}\n",
        "CB = True #@param {type:\"boolean\"}\n",
        "print(B)\n",
        "print(R)\n",
        "print(G)\n",
        "print(CB)\n",
        "\n",
        "if CB == False:\n",
        "  img[:] = 0\n",
        "else:\n",
        "  img[:] = [B, G, R]\n",
        "\n",
        "cv2_imshow(img)"
      ],
      "execution_count": 2,
      "outputs": [
        {
          "output_type": "stream",
          "text": [
            "163\n",
            "115\n",
            "65\n",
            "True\n"
          ],
          "name": "stdout"
        },
        {
          "output_type": "display_data",
          "data": {
            "image/png": "[encoded data removed]",
            "text/plain": [
              "<PIL.Image.Image image mode=RGB size=100x100 at 0x7F7A9583C810>"
            ]
          },
          "metadata": {
            "tags": []
          }
        }
      ]
    },
    {
      "cell_type": "code",
      "metadata": {
        "colab": {
          "base_uri": "https://localhost:8080/",
          "height": 1000
        },
        "id": "pTfn1M-miwcM",
        "outputId": "932bb86d-3145-4702-af15-5135344f3f69"
      },
      "source": [
        "!pip install streamlit"
      ],
      "execution_count": 3,
      "outputs": [
        {
          "output_type": "stream",
          "text": [
            "Collecting streamlit\n",
            "\u001b[?25l  Downloading https://files.pythonhosted.org/packages/50/f3/779be07f8b3a6bb39478691872e491665fdd6194255c05da2668e939ba3b/streamlit-0.84.0-py2.py3-none-any.whl (7.8MB)\n",
            "\u001b[K     |████████████████████████████████| 7.8MB 6.7MB/s \n",
            "\u001b[?25hCollecting base58\n",
            "  Downloading https://files.pythonhosted.org/packages/b8/a1/d9f565e9910c09fd325dc638765e8843a19fa696275c16cc08cf3b0a3c25/base58-2.1.0-py3-none-any.whl\n",
            "Requirement already satisfied: altair>=3.2.0 in /usr/local/lib/python3.7/dist-packages (from streamlit) (4.1.0)\n",
            "Requirement already satisfied: requests in /usr/local/lib/python3.7/dist-packages (from streamlit) (2.23.0)\n",
            "Requirement already satisfied: numpy in /usr/local/lib/python3.7/dist-packages (from streamlit) (1.19.5)\n",
            "Requirement already satisfied: pillow>=6.2.0 in /usr/local/lib/python3.7/dist-packages (from streamlit) (7.1.2)\n",
            "Requirement already satisfied: packaging in /usr/local/lib/python3.7/dist-packages (from streamlit) (20.9)\n",
            "Collecting watchdog; platform_system != \"Darwin\"\n",
            "\u001b[?25l  Downloading https://files.pythonhosted.org/packages/6b/d1/b0a1e69af06d2f6f47a11238ca115667d858cbb30baf6b6df03f1b874163/watchdog-2.1.3-py3-none-manylinux2014_x86_64.whl (75kB)\n",
            "\u001b[K     |████████████████████████████████| 81kB 10.6MB/s \n",
            "\u001b[?25hRequirement already satisfied: python-dateutil in /usr/local/lib/python3.7/dist-packages (from streamlit) (2.8.1)\n",
            "Requirement already satisfied: astor in /usr/local/lib/python3.7/dist-packages (from streamlit) (0.8.1)\n",
            "Requirement already satisfied: protobuf!=3.11,>=3.6.0 in /usr/local/lib/python3.7/dist-packages (from streamlit) (3.12.4)\n",
            "Requirement already satisfied: pyarrow; python_version < \"3.9\" in /usr/local/lib/python3.7/dist-packages (from streamlit) (3.0.0)\n",
            "Collecting validators\n",
            "  Downloading https://files.pythonhosted.org/packages/db/2f/7fed3ee94ad665ad2c1de87f858f10a7785251ff75b4fd47987888d07ef1/validators-0.18.2-py3-none-any.whl\n",
            "Collecting gitpython\n",
            "\u001b[?25l  Downloading https://files.pythonhosted.org/packages/bc/91/b38c4fabb6e5092ab23492ded4f318ab7299b19263272b703478038c0fbc/GitPython-3.1.18-py3-none-any.whl (170kB)\n",
            "\u001b[K     |████████████████████████████████| 174kB 56.6MB/s \n",
            "\u001b[?25hCollecting blinker\n",
            "\u001b[?25l  Downloading https://files.pythonhosted.org/packages/1b/51/e2a9f3b757eb802f61dc1f2b09c8c99f6eb01cf06416c0671253536517b6/blinker-1.4.tar.gz (111kB)\n",
            "\u001b[K     |████████████████████████████████| 112kB 55.6MB/s \n",
            "\u001b[?25hRequirement already satisfied: cachetools>=4.0 in /usr/local/lib/python3.7/dist-packages (from streamlit) (4.2.2)\n",
            "Requirement already satisfied: toml in /usr/local/lib/python3.7/dist-packages (from streamlit) (0.10.2)\n",
            "Requirement already satisfied: click<8.0,>=7.0 in /usr/local/lib/python3.7/dist-packages (from streamlit) (7.1.2)\n",
            "Collecting pydeck>=0.1.dev5\n",
            "\u001b[?25l  Downloading https://files.pythonhosted.org/packages/d6/bc/f0e44828e4290367c869591d50d3671a4d0ee94926da6cb734b7b200308c/pydeck-0.6.2-py2.py3-none-any.whl (4.2MB)\n",
            "\u001b[K     |████████████████████████████████| 4.2MB 39.3MB/s \n",
            "\u001b[?25hRequirement already satisfied: attrs in /usr/local/lib/python3.7/dist-packages (from streamlit) (21.2.0)\n",
            "Requirement already satisfied: pandas>=0.21.0 in /usr/local/lib/python3.7/dist-packages (from streamlit) (1.1.5)\n",
            "Requirement already satisfied: tornado>=5.0 in /usr/local/lib/python3.7/dist-packages (from streamlit) (5.1.1)\n",
            "Requirement already satisfied: tzlocal in /usr/local/lib/python3.7/dist-packages (from streamlit) (1.5.1)\n",
            "Requirement already satisfied: jinja2 in /usr/local/lib/python3.7/dist-packages (from altair>=3.2.0->streamlit) (2.11.3)\n",
            "Requirement already satisfied: jsonschema in /usr/local/lib/python3.7/dist-packages (from altair>=3.2.0->streamlit) (2.6.0)\n",
            "Requirement already satisfied: toolz in /usr/local/lib/python3.7/dist-packages (from altair>=3.2.0->streamlit) (0.11.1)\n",
            "Requirement already satisfied: entrypoints in /usr/local/lib/python3.7/dist-packages (from altair>=3.2.0->streamlit) (0.3)\n",
            "Requirement already satisfied: idna<3,>=2.5 in /usr/local/lib/python3.7/dist-packages (from requests->streamlit) (2.10)\n",
            "Requirement already satisfied: chardet<4,>=3.0.2 in /usr/local/lib/python3.7/dist-packages (from requests->streamlit) (3.0.4)\n",
            "Requirement already satisfied: urllib3!=1.25.0,!=1.25.1,<1.26,>=1.21.1 in /usr/local/lib/python3.7/dist-packages (from requests->streamlit) (1.24.3)\n",
            "Requirement already satisfied: certifi>=2017.4.17 in /usr/local/lib/python3.7/dist-packages (from requests->streamlit) (2021.5.30)\n",
            "Requirement already satisfied: pyparsing>=2.0.2 in /usr/local/lib/python3.7/dist-packages (from packaging->streamlit) (2.4.7)\n",
            "Requirement already satisfied: six>=1.5 in /usr/local/lib/python3.7/dist-packages (from python-dateutil->streamlit) (1.15.0)\n",
            "Requirement already satisfied: setuptools in /usr/local/lib/python3.7/dist-packages (from protobuf!=3.11,>=3.6.0->streamlit) (57.0.0)\n",
            "Requirement already satisfied: decorator>=3.4.0 in /usr/local/lib/python3.7/dist-packages (from validators->streamlit) (4.4.2)\n",
            "Requirement already satisfied: typing-extensions>=3.7.4.0; python_version < \"3.8\" in /usr/local/lib/python3.7/dist-packages (from gitpython->streamlit) (3.7.4.3)\n",
            "Collecting gitdb<5,>=4.0.1\n",
            "\u001b[?25l  Downloading https://files.pythonhosted.org/packages/ea/e8/f414d1a4f0bbc668ed441f74f44c116d9816833a48bf81d22b697090dba8/gitdb-4.0.7-py3-none-any.whl (63kB)\n",
            "\u001b[K     |████████████████████████████████| 71kB 10.4MB/s \n",
            "\u001b[?25hRequirement already satisfied: traitlets>=4.3.2 in /usr/local/lib/python3.7/dist-packages (from pydeck>=0.1.dev5->streamlit) (5.0.5)\n",
            "Collecting ipykernel>=5.1.2; python_version >= \"3.4\"\n",
            "\u001b[?25l  Downloading https://files.pythonhosted.org/packages/b6/4a/b9e7d67637549e1b75c2946e93e35740ea63a521d7d455343e6a8a8a7b91/ipykernel-6.0.1-py3-none-any.whl (122kB)\n",
            "\u001b[K     |████████████████████████████████| 122kB 49.8MB/s \n",
            "\u001b[?25hRequirement already satisfied: ipywidgets>=7.0.0 in /usr/local/lib/python3.7/dist-packages (from pydeck>=0.1.dev5->streamlit) (7.6.3)\n",
            "Requirement already satisfied: pytz>=2017.2 in /usr/local/lib/python3.7/dist-packages (from pandas>=0.21.0->streamlit) (2018.9)\n",
            "Requirement already satisfied: MarkupSafe>=0.23 in /usr/local/lib/python3.7/dist-packages (from jinja2->altair>=3.2.0->streamlit) (2.0.1)\n",
            "Collecting smmap<5,>=3.0.1\n",
            "  Downloading https://files.pythonhosted.org/packages/68/ee/d540eb5e5996eb81c26ceffac6ee49041d473bc5125f2aa995cf51ec1cf1/smmap-4.0.0-py2.py3-none-any.whl\n",
            "Requirement already satisfied: ipython-genutils in /usr/local/lib/python3.7/dist-packages (from traitlets>=4.3.2->pydeck>=0.1.dev5->streamlit) (0.2.0)\n",
            "Requirement already satisfied: debugpy>=1.0.0 in /usr/local/lib/python3.7/dist-packages (from ipykernel>=5.1.2; python_version >= \"3.4\"->pydeck>=0.1.dev5->streamlit) (1.0.0)\n",
            "Requirement already satisfied: jupyter-client in /usr/local/lib/python3.7/dist-packages (from ipykernel>=5.1.2; python_version >= \"3.4\"->pydeck>=0.1.dev5->streamlit) (5.3.5)\n",
            "Collecting ipython>=7.23.1\n",
            "\u001b[?25l  Downloading https://files.pythonhosted.org/packages/f7/b2/733ea4551a04866bbcfbbade4d9d2c82c829cf1cc6fac1ac5974b8c7f756/ipython-7.25.0-py3-none-any.whl (786kB)\n",
            "\u001b[K     |████████████████████████████████| 788kB 28.0MB/s \n",
            "\u001b[?25hCollecting importlib-metadata<4; python_version < \"3.8.0\"\n",
            "  Downloading https://files.pythonhosted.org/packages/52/d0/bdb31463f2d9ca111e39b268518e9baa3542ef73ca449b711a7b4da69764/importlib_metadata-3.10.1-py3-none-any.whl\n",
            "Requirement already satisfied: widgetsnbextension~=3.5.0 in /usr/local/lib/python3.7/dist-packages (from ipywidgets>=7.0.0->pydeck>=0.1.dev5->streamlit) (3.5.1)\n",
            "Requirement already satisfied: jupyterlab-widgets>=1.0.0; python_version >= \"3.6\" in /usr/local/lib/python3.7/dist-packages (from ipywidgets>=7.0.0->pydeck>=0.1.dev5->streamlit) (1.0.0)\n",
            "Requirement already satisfied: nbformat>=4.2.0 in /usr/local/lib/python3.7/dist-packages (from ipywidgets>=7.0.0->pydeck>=0.1.dev5->streamlit) (5.1.3)\n",
            "Requirement already satisfied: pyzmq>=13 in /usr/local/lib/python3.7/dist-packages (from jupyter-client->ipykernel>=5.1.2; python_version >= \"3.4\"->pydeck>=0.1.dev5->streamlit) (22.1.0)\n",
            "Requirement already satisfied: jupyter-core>=4.6.0 in /usr/local/lib/python3.7/dist-packages (from jupyter-client->ipykernel>=5.1.2; python_version >= \"3.4\"->pydeck>=0.1.dev5->streamlit) (4.7.1)\n",
            "Requirement already satisfied: jedi>=0.16 in /usr/local/lib/python3.7/dist-packages (from ipython>=7.23.1->ipykernel>=5.1.2; python_version >= \"3.4\"->pydeck>=0.1.dev5->streamlit) (0.18.0)\n",
            "Collecting prompt-toolkit!=3.0.0,!=3.0.1,<3.1.0,>=2.0.0\n",
            "\u001b[?25l  Downloading https://files.pythonhosted.org/packages/1e/34/1d9880ac1339ad4c6697b330e7a507584105613751318249d9e820faa25f/prompt_toolkit-3.0.19-py3-none-any.whl (368kB)\n",
            "\u001b[K     |████████████████████████████████| 368kB 37.8MB/s \n",
            "\u001b[?25hRequirement already satisfied: pickleshare in /usr/local/lib/python3.7/dist-packages (from ipython>=7.23.1->ipykernel>=5.1.2; python_version >= \"3.4\"->pydeck>=0.1.dev5->streamlit) (0.7.5)\n",
            "Requirement already satisfied: matplotlib-inline in /usr/local/lib/python3.7/dist-packages (from ipython>=7.23.1->ipykernel>=5.1.2; python_version >= \"3.4\"->pydeck>=0.1.dev5->streamlit) (0.1.2)\n",
            "Requirement already satisfied: pygments in /usr/local/lib/python3.7/dist-packages (from ipython>=7.23.1->ipykernel>=5.1.2; python_version >= \"3.4\"->pydeck>=0.1.dev5->streamlit) (2.6.1)\n",
            "Requirement already satisfied: backcall in /usr/local/lib/python3.7/dist-packages (from ipython>=7.23.1->ipykernel>=5.1.2; python_version >= \"3.4\"->pydeck>=0.1.dev5->streamlit) (0.2.0)\n",
            "Requirement already satisfied: pexpect>4.3; sys_platform != \"win32\" in /usr/local/lib/python3.7/dist-packages (from ipython>=7.23.1->ipykernel>=5.1.2; python_version >= \"3.4\"->pydeck>=0.1.dev5->streamlit) (4.8.0)\n",
            "Requirement already satisfied: zipp>=0.5 in /usr/local/lib/python3.7/dist-packages (from importlib-metadata<4; python_version < \"3.8.0\"->ipykernel>=5.1.2; python_version >= \"3.4\"->pydeck>=0.1.dev5->streamlit) (3.4.1)\n",
            "Requirement already satisfied: notebook>=4.4.1 in /usr/local/lib/python3.7/dist-packages (from widgetsnbextension~=3.5.0->ipywidgets>=7.0.0->pydeck>=0.1.dev5->streamlit) (5.3.1)\n",
            "Requirement already satisfied: parso<0.9.0,>=0.8.0 in /usr/local/lib/python3.7/dist-packages (from jedi>=0.16->ipython>=7.23.1->ipykernel>=5.1.2; python_version >= \"3.4\"->pydeck>=0.1.dev5->streamlit) (0.8.2)\n",
            "Requirement already satisfied: wcwidth in /usr/local/lib/python3.7/dist-packages (from prompt-toolkit!=3.0.0,!=3.0.1,<3.1.0,>=2.0.0->ipython>=7.23.1->ipykernel>=5.1.2; python_version >= \"3.4\"->pydeck>=0.1.dev5->streamlit) (0.2.5)\n",
            "Requirement already satisfied: ptyprocess>=0.5 in /usr/local/lib/python3.7/dist-packages (from pexpect>4.3; sys_platform != \"win32\"->ipython>=7.23.1->ipykernel>=5.1.2; python_version >= \"3.4\"->pydeck>=0.1.dev5->streamlit) (0.7.0)\n",
            "Requirement already satisfied: nbconvert in /usr/local/lib/python3.7/dist-packages (from notebook>=4.4.1->widgetsnbextension~=3.5.0->ipywidgets>=7.0.0->pydeck>=0.1.dev5->streamlit) (5.6.1)\n",
            "Requirement already satisfied: Send2Trash in /usr/local/lib/python3.7/dist-packages (from notebook>=4.4.1->widgetsnbextension~=3.5.0->ipywidgets>=7.0.0->pydeck>=0.1.dev5->streamlit) (1.5.0)\n",
            "Requirement already satisfied: terminado>=0.8.1 in /usr/local/lib/python3.7/dist-packages (from notebook>=4.4.1->widgetsnbextension~=3.5.0->ipywidgets>=7.0.0->pydeck>=0.1.dev5->streamlit) (0.10.1)\n",
            "Requirement already satisfied: mistune<2,>=0.8.1 in /usr/local/lib/python3.7/dist-packages (from nbconvert->notebook>=4.4.1->widgetsnbextension~=3.5.0->ipywidgets>=7.0.0->pydeck>=0.1.dev5->streamlit) (0.8.4)\n",
            "Requirement already satisfied: defusedxml in /usr/local/lib/python3.7/dist-packages (from nbconvert->notebook>=4.4.1->widgetsnbextension~=3.5.0->ipywidgets>=7.0.0->pydeck>=0.1.dev5->streamlit) (0.7.1)\n",
            "Requirement already satisfied: pandocfilters>=1.4.1 in /usr/local/lib/python3.7/dist-packages (from nbconvert->notebook>=4.4.1->widgetsnbextension~=3.5.0->ipywidgets>=7.0.0->pydeck>=0.1.dev5->streamlit) (1.4.3)\n",
            "Requirement already satisfied: testpath in /usr/local/lib/python3.7/dist-packages (from nbconvert->notebook>=4.4.1->widgetsnbextension~=3.5.0->ipywidgets>=7.0.0->pydeck>=0.1.dev5->streamlit) (0.5.0)\n",
            "Requirement already satisfied: bleach in /usr/local/lib/python3.7/dist-packages (from nbconvert->notebook>=4.4.1->widgetsnbextension~=3.5.0->ipywidgets>=7.0.0->pydeck>=0.1.dev5->streamlit) (3.3.0)\n",
            "Requirement already satisfied: webencodings in /usr/local/lib/python3.7/dist-packages (from bleach->nbconvert->notebook>=4.4.1->widgetsnbextension~=3.5.0->ipywidgets>=7.0.0->pydeck>=0.1.dev5->streamlit) (0.5.1)\n",
            "Building wheels for collected packages: blinker\n",
            "  Building wheel for blinker (setup.py) ... \u001b[?25l\u001b[?25hdone\n",
            "  Created wheel for blinker: filename=blinker-1.4-cp37-none-any.whl size=13476 sha256=df79e6cf3b00fdec689989658e0eae91a9875370669486e5091d6a89228e3b8f\n",
            "  Stored in directory: /root/.cache/pip/wheels/92/a0/00/8690a57883956a301d91cf4ec999cc0b258b01e3f548f86e89\n",
            "Successfully built blinker\n",
            "\u001b[31mERROR: jupyter-console 5.2.0 has requirement prompt-toolkit<2.0.0,>=1.0.0, but you'll have prompt-toolkit 3.0.19 which is incompatible.\u001b[0m\n",
            "\u001b[31mERROR: google-colab 1.0.0 has requirement ipykernel~=4.10, but you'll have ipykernel 6.0.1 which is incompatible.\u001b[0m\n",
            "\u001b[31mERROR: google-colab 1.0.0 has requirement ipython~=5.5.0, but you'll have ipython 7.25.0 which is incompatible.\u001b[0m\n",
            "Installing collected packages: base58, watchdog, validators, smmap, gitdb, gitpython, blinker, prompt-toolkit, ipython, importlib-metadata, ipykernel, pydeck, streamlit\n",
            "  Found existing installation: prompt-toolkit 1.0.18\n",
            "    Uninstalling prompt-toolkit-1.0.18:\n",
            "      Successfully uninstalled prompt-toolkit-1.0.18\n",
            "  Found existing installation: ipython 5.5.0\n",
            "    Uninstalling ipython-5.5.0:\n",
            "      Successfully uninstalled ipython-5.5.0\n",
            "  Found existing installation: importlib-metadata 4.5.0\n",
            "    Uninstalling importlib-metadata-4.5.0:\n",
            "      Successfully uninstalled importlib-metadata-4.5.0\n",
            "  Found existing installation: ipykernel 4.10.1\n",
            "    Uninstalling ipykernel-4.10.1:\n",
            "      Successfully uninstalled ipykernel-4.10.1\n",
            "Successfully installed base58-2.1.0 blinker-1.4 gitdb-4.0.7 gitpython-3.1.18 importlib-metadata-3.10.1 ipykernel-6.0.1 ipython-7.25.0 prompt-toolkit-3.0.19 pydeck-0.6.2 smmap-4.0.0 streamlit-0.84.0 validators-0.18.2 watchdog-2.1.3\n"
          ],
          "name": "stdout"
        },
        {
          "output_type": "display_data",
          "data": {
            "application/vnd.colab-display-data+json": {
              "pip_warning": {
                "packages": [
                  "IPython",
                  "ipykernel",
                  "prompt_toolkit"
                ]
              }
            }
          },
          "metadata": {
            "tags": []
          }
        }
      ]
    },
    {
      "cell_type": "code",
      "metadata": {
        "colab": {
          "base_uri": "https://localhost:8080/"
        },
        "id": "HkK3FvNpi0Qi",
        "outputId": "0f9ae1a0-aac9-4fb6-c05b-d5b683a5bc97"
      },
      "source": [
        "!pip install pyngrok"
      ],
      "execution_count": 4,
      "outputs": [
        {
          "output_type": "stream",
          "text": [
            "Collecting pyngrok\n",
            "\u001b[?25l  Downloading https://files.pythonhosted.org/packages/6b/4e/a2fe095bbe17cf26424c4abcd22a0490e22d01cc628f25af5e220ddbf6f0/pyngrok-5.0.5.tar.gz (745kB)\n",
            "\r\u001b[K     |▍                               | 10kB 18.7MB/s eta 0:00:01\r\u001b[K     |▉                               | 20kB 20.5MB/s eta 0:00:01\r\u001b[K     |█▎                              | 30kB 15.3MB/s eta 0:00:01\r\u001b[K     |█▊                              | 40kB 13.6MB/s eta 0:00:01\r\u001b[K     |██▏                             | 51kB 6.4MB/s eta 0:00:01\r\u001b[K     |██▋                             | 61kB 6.8MB/s eta 0:00:01\r\u001b[K     |███                             | 71kB 7.7MB/s eta 0:00:01\r\u001b[K     |███▌                            | 81kB 8.2MB/s eta 0:00:01\r\u001b[K     |████                            | 92kB 8.1MB/s eta 0:00:01\r\u001b[K     |████▍                           | 102kB 6.8MB/s eta 0:00:01\r\u001b[K     |████▉                           | 112kB 6.8MB/s eta 0:00:01\r\u001b[K     |█████▎                          | 122kB 6.8MB/s eta 0:00:01\r\u001b[K     |█████▊                          | 133kB 6.8MB/s eta 0:00:01\r\u001b[K     |██████▏                         | 143kB 6.8MB/s eta 0:00:01\r\u001b[K     |██████▋                         | 153kB 6.8MB/s eta 0:00:01\r\u001b[K     |███████                         | 163kB 6.8MB/s eta 0:00:01\r\u001b[K     |███████▌                        | 174kB 6.8MB/s eta 0:00:01\r\u001b[K     |████████                        | 184kB 6.8MB/s eta 0:00:01\r\u001b[K     |████████▍                       | 194kB 6.8MB/s eta 0:00:01\r\u001b[K     |████████▉                       | 204kB 6.8MB/s eta 0:00:01\r\u001b[K     |█████████▎                      | 215kB 6.8MB/s eta 0:00:01\r\u001b[K     |█████████▊                      | 225kB 6.8MB/s eta 0:00:01\r\u001b[K     |██████████▏                     | 235kB 6.8MB/s eta 0:00:01\r\u001b[K     |██████████▌                     | 245kB 6.8MB/s eta 0:00:01\r\u001b[K     |███████████                     | 256kB 6.8MB/s eta 0:00:01\r\u001b[K     |███████████▍                    | 266kB 6.8MB/s eta 0:00:01\r\u001b[K     |███████████▉                    | 276kB 6.8MB/s eta 0:00:01\r\u001b[K     |████████████▎                   | 286kB 6.8MB/s eta 0:00:01\r\u001b[K     |████████████▊                   | 296kB 6.8MB/s eta 0:00:01\r\u001b[K     |█████████████▏                  | 307kB 6.8MB/s eta 0:00:01\r\u001b[K     |█████████████▋                  | 317kB 6.8MB/s eta 0:00:01\r\u001b[K     |██████████████                  | 327kB 6.8MB/s eta 0:00:01\r\u001b[K     |██████████████▌                 | 337kB 6.8MB/s eta 0:00:01\r\u001b[K     |███████████████                 | 348kB 6.8MB/s eta 0:00:01\r\u001b[K     |███████████████▍                | 358kB 6.8MB/s eta 0:00:01\r\u001b[K     |███████████████▉                | 368kB 6.8MB/s eta 0:00:01\r\u001b[K     |████████████████▎               | 378kB 6.8MB/s eta 0:00:01\r\u001b[K     |████████████████▊               | 389kB 6.8MB/s eta 0:00:01\r\u001b[K     |█████████████████▏              | 399kB 6.8MB/s eta 0:00:01\r\u001b[K     |█████████████████▋              | 409kB 6.8MB/s eta 0:00:01\r\u001b[K     |██████████████████              | 419kB 6.8MB/s eta 0:00:01\r\u001b[K     |██████████████████▌             | 430kB 6.8MB/s eta 0:00:01\r\u001b[K     |███████████████████             | 440kB 6.8MB/s eta 0:00:01\r\u001b[K     |███████████████████▍            | 450kB 6.8MB/s eta 0:00:01\r\u001b[K     |███████████████████▉            | 460kB 6.8MB/s eta 0:00:01\r\u001b[K     |████████████████████▎           | 471kB 6.8MB/s eta 0:00:01\r\u001b[K     |████████████████████▊           | 481kB 6.8MB/s eta 0:00:01\r\u001b[K     |█████████████████████           | 491kB 6.8MB/s eta 0:00:01\r\u001b[K     |█████████████████████▌          | 501kB 6.8MB/s eta 0:00:01\r\u001b[K     |██████████████████████          | 512kB 6.8MB/s eta 0:00:01\r\u001b[K     |██████████████████████▍         | 522kB 6.8MB/s eta 0:00:01\r\u001b[K     |██████████████████████▉         | 532kB 6.8MB/s eta 0:00:01\r\u001b[K     |███████████████████████▎        | 542kB 6.8MB/s eta 0:00:01\r\u001b[K     |███████████████████████▊        | 552kB 6.8MB/s eta 0:00:01\r\u001b[K     |████████████████████████▏       | 563kB 6.8MB/s eta 0:00:01\r\u001b[K     |████████████████████████▋       | 573kB 6.8MB/s eta 0:00:01\r\u001b[K     |█████████████████████████       | 583kB 6.8MB/s eta 0:00:01\r\u001b[K     |█████████████████████████▌      | 593kB 6.8MB/s eta 0:00:01\r\u001b[K     |██████████████████████████      | 604kB 6.8MB/s eta 0:00:01\r\u001b[K     |██████████████████████████▍     | 614kB 6.8MB/s eta 0:00:01\r\u001b[K     |██████████████████████████▉     | 624kB 6.8MB/s eta 0:00:01\r\u001b[K     |███████████████████████████▎    | 634kB 6.8MB/s eta 0:00:01\r\u001b[K     |███████████████████████████▊    | 645kB 6.8MB/s eta 0:00:01\r\u001b[K     |████████████████████████████▏   | 655kB 6.8MB/s eta 0:00:01\r\u001b[K     |████████████████████████████▋   | 665kB 6.8MB/s eta 0:00:01\r\u001b[K     |█████████████████████████████   | 675kB 6.8MB/s eta 0:00:01\r\u001b[K     |█████████████████████████████▌  | 686kB 6.8MB/s eta 0:00:01\r\u001b[K     |██████████████████████████████  | 696kB 6.8MB/s eta 0:00:01\r\u001b[K     |██████████████████████████████▍ | 706kB 6.8MB/s eta 0:00:01\r\u001b[K     |██████████████████████████████▉ | 716kB 6.8MB/s eta 0:00:01\r\u001b[K     |███████████████████████████████▏| 727kB 6.8MB/s eta 0:00:01\r\u001b[K     |███████████████████████████████▋| 737kB 6.8MB/s eta 0:00:01\r\u001b[K     |████████████████████████████████| 747kB 6.8MB/s \n",
            "\u001b[?25hRequirement already satisfied: PyYAML in /usr/local/lib/python3.7/dist-packages (from pyngrok) (3.13)\n",
            "Building wheels for collected packages: pyngrok\n",
            "  Building wheel for pyngrok (setup.py) ... \u001b[?25l\u001b[?25hdone\n",
            "  Created wheel for pyngrok: filename=pyngrok-5.0.5-cp37-none-any.whl size=19262 sha256=2109e7b6ec8b9961a1486a241f4b8f060995c02c8b9e9f95ca4a9e79b68ae7c3\n",
            "  Stored in directory: /root/.cache/pip/wheels/0c/13/64/5ebbcc22eaf53fdf5766b397c1fb17c83f5775fdccf0ea1b88\n",
            "Successfully built pyngrok\n",
            "Installing collected packages: pyngrok\n",
            "Successfully installed pyngrok-5.0.5\n"
          ],
          "name": "stdout"
        }
      ]
    },
    {
      "cell_type": "code",
      "metadata": {
        "colab": {
          "base_uri": "https://localhost:8080/"
        },
        "id": "0AfIZ4Ppi9Bs",
        "outputId": "9ac370b5-0b4a-4d02-8043-4228480ad73d"
      },
      "source": [
        "!ngrok authtoken 1thTAQBsIAcrM1OxzHwjHYrfPe8_xw4yXCng9hYHpUzSNhxj"
      ],
      "execution_count": 5,
      "outputs": [
        {
          "output_type": "stream",
          "text": [
            "Authtoken saved to configuration file: /root/.ngrok2/ngrok.yml\n"
          ],
          "name": "stdout"
        }
      ]
    },
    {
      "cell_type": "code",
      "metadata": {
        "colab": {
          "base_uri": "https://localhost:8080/"
        },
        "id": "VBB2mtYUjA9l",
        "outputId": "eabef30e-8931-42d0-f0e0-9bdb4ea137b1"
      },
      "source": [
        "%%writefile app.py\n",
        "import streamlit as st \n",
        "from PIL import Image\n",
        "import pickle\n",
        "import numpy as np\n",
        "import matplotlib.pyplot as plt\n",
        "import pandas as pd\n",
        "import tensorflow as tf\n",
        "from keras.preprocessing import image\n",
        "import os\n",
        "from werkzeug.utils import secure_filename\n",
        "st.set_option('deprecation.showfileUploaderEncoding', False)\n",
        "from keras.models import load_model\n",
        "\n",
        "html_temp = \"\"\"\n",
        "   <div class=\"\" style=\"background-color:blue;\" >\n",
        "   <div class=\"clearfix\">           \n",
        "   <div class=\"col-md-12\">\n",
        "   <center><p style=\"font-size:40px;color:white;margin-top:10px;\">Poornima Institute of Engineering & Technology</p></center> \n",
        "   <center><p style=\"font-size:30px;color:white;margin-top:10px;\">Digital Image Processing lab</p></center> \n",
        "   </div>\n",
        "   </div>\n",
        "   </div>\n",
        "   \"\"\"\n",
        "st.markdown(html_temp,unsafe_allow_html=True)\n",
        "  \n",
        "st.title(\"\"\"\n",
        "        Collor Palette\n",
        "         \"\"\"\n",
        "         )\n",
        "file= st.file_uploader(\"Please upload image\", type=(\"jpg\", \"png\"))\n",
        "R = st.slider('R', min_value=0, max_value=255, step=1)\n",
        "G = st.slider('G', min_value=0, max_value=255, step=1)\n",
        "B = st.slider('B', min_value=0, max_value=255, step=1)\n",
        "\n",
        "import cv2\n",
        "from  PIL import Image, ImageOps\n",
        "def import_and_predict(image_data):\n",
        "  #img = image.load_img(image_data, target_size=(224, 224))\n",
        "  #image = image.img_to_array(img)\n",
        "  #img_reshap= np.expand_dims(image, axis=0)\n",
        "  #img_reshap = preprocess_input(img_reshap)\n",
        "   \n",
        "  image_data[:] = [R,G,B]\n",
        "  st.image(image_data, use_column_width=True)\n",
        "  return 0\n",
        "if file is None:\n",
        "  st.text(\"Please upload an Image file\")\n",
        "else:\n",
        "  file_bytes = np.asarray(bytearray(file.read()), dtype=np.uint8)\n",
        "  image = cv2.imdecode(file_bytes, 1)\n",
        "  st.image(file,caption='Uploaded Image.', use_column_width=True)\n",
        "    \n",
        "if st.button(\"Change Color\"):\n",
        "  result=import_and_predict(image)\n",
        "  \n",
        "if st.button(\"About\"):\n",
        "  st.header(\" Alka Rani\")\n",
        "  st.subheader(\"Assistant Professor, Department of Computer Engineering\")\n",
        "html_temp = \"\"\"\n",
        "   <div class=\"\" style=\"background-color:orange;\" >\n",
        "   <div class=\"clearfix\">           \n",
        "   <div class=\"col-md-12\">\n",
        "   <center><p style=\"font-size:20px;color:white;margin-top:10px;\">Digital Image processing Experiment</p></center> \n",
        "   </div>\n",
        "   </div>\n",
        "   </div>\n",
        "   \"\"\"\n",
        "st.markdown(html_temp,unsafe_allow_html=True)"
      ],
      "execution_count": 6,
      "outputs": [
        {
          "output_type": "stream",
          "text": [
            "Writing app.py\n"
          ],
          "name": "stdout"
        }
      ]
    },
    {
      "cell_type": "code",
      "metadata": {
        "colab": {
          "base_uri": "https://localhost:8080/"
        },
        "id": "NwHqc_c0jJU1",
        "outputId": "5e5187e3-38ca-4e30-edf2-ade9392c9c35"
      },
      "source": [
        "!nohup streamlit run app.py &"
      ],
      "execution_count": 7,
      "outputs": [
        {
          "output_type": "stream",
          "text": [
            "nohup: appending output to 'nohup.out'\n"
          ],
          "name": "stdout"
        }
      ]
    },
    {
      "cell_type": "code",
      "metadata": {
        "colab": {
          "base_uri": "https://localhost:8080/"
        },
        "id": "fvpybOqdjQPb",
        "outputId": "e31cbdf8-4ed0-4da3-f62a-e4011f8aaf55"
      },
      "source": [
        "from pyngrok import ngrok\n",
        "url=ngrok.connect(port='8050')\n",
        "url"
      ],
      "execution_count": 8,
      "outputs": [
        {
          "output_type": "execute_result",
          "data": {
            "text/plain": [
              "<NgrokTunnel: \"http://0be07d5a44e8.ngrok.io\" -> \"http://localhost:80\">"
            ]
          },
          "metadata": {
            "tags": []
          },
          "execution_count": 8
        }
      ]
    },
    {
      "cell_type": "code",
      "metadata": {
        "colab": {
          "base_uri": "https://localhost:8080/"
        },
        "id": "UtIRg1TNjTE2",
        "outputId": "7647edf4-1950-4ebd-f682-dab55e15da7c"
      },
      "source": [
        "!streamlit run --server.port 80 app.py"
      ],
      "execution_count": 9,
      "outputs": [
        {
          "output_type": "stream",
          "text": [
            "2021-07-05 07:24:00.657588: I tensorflow/stream_executor/platform/default/dso_loader.cc:53] Successfully opened dynamic library libcudart.so.11.0\n",
            "\u001b[0m\n",
            "\u001b[34m\u001b[1m  You can now view your Streamlit app in your browser.\u001b[0m\n",
            "\u001b[0m\n",
            "\u001b[34m  Network URL: \u001b[0m\u001b[1mhttp://172.28.0.2:80\u001b[0m\n",
            "\u001b[34m  External URL: \u001b[0m\u001b[1mhttp://34.125.176.178:80\u001b[0m\n",
            "\u001b[0m\n",
            "\u001b[34m  Stopping...\u001b[0m\n"
          ],
          "name": "stdout"
        }
      ]
    },
    {
      "cell_type": "code",
      "metadata": {
        "id": "mRKgR75OrmCo"
      },
      "source": [
        "import os\n",
        "import sys\n",
        "import shutil\n",
        "import glob\n",
        "import matplotlib.pyplot as plt\n",
        "import matplotlib.image as mpimg\n",
        "from PIL import Image\n"
      ],
      "execution_count": 43,
      "outputs": []
    },
    {
      "cell_type": "code",
      "metadata": {
        "id": "_fBfZMiLso7d"
      },
      "source": [
        "#solution 2/\n",
        "def main():\n",
        "    img = cv2.imread(\"unnamed.jpg\")\n",
        "    img = cv2.cvtColor(img, cv2.COLOR_BGR2RGB)\n",
        "    \n",
        "    k = np.array(([1,4,6,4,1], [4,16,24,16,4], [6,24,-476,24,6], [1,4,6,4,1], [4,16,24,16,4]), np.float32)/-256\n",
        "    print(k)\n",
        "    print(type(k))\n",
        "\n",
        "\n",
        "#Output will be same as  k = identy kernal\n",
        "    output = cv2.filter2D(img, -1, k)\n",
        "\n",
        "    plt.subplot(1, 2, 1)\n",
        "    plt.imshow(img)\n",
        "    plt.title('Original Image')\n",
        "\n",
        "    plt.subplot(1, 2, 2)\n",
        "    plt.imshow(output)\n",
        "    plt.title('Unsharp Masking Image')\n",
        "    \n",
        "    plt.show()\n",
        "  \n"
      ],
      "execution_count": 62,
      "outputs": []
    },
    {
      "cell_type": "code",
      "metadata": {
        "id": "xnjYUUoYu9Ly"
      },
      "source": [
        ""
      ],
      "execution_count": null,
      "outputs": []
    }
  ]
}